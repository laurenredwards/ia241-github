{
 "cells": [
  {
   "cell_type": "markdown",
   "id": "7f868d41",
   "metadata": {
    "tags": []
   },
   "source": [
    "# lec 11 reading files"
   ]
  },
  {
   "cell_type": "markdown",
   "id": "41518201",
   "metadata": {},
   "source": [
    "## reading text file"
   ]
  },
  {
   "cell_type": "code",
   "execution_count": 2,
   "id": "66223074",
   "metadata": {},
   "outputs": [
    {
     "name": "stdout",
     "output_type": "stream",
     "text": [
      "Recognizing the nation's history of racism and violence perpetrated against Black communities and communities of color, town halls for the JMU community are scheduled on June 3, 4 and 11 to better understand and address racial injustice and inequities.\n",
      "\n",
      "“We know this grief and pain extends throughout our community, and want you to know that on behalf of the institution and as an individual, I stand with you,” said JMU President Jonathan R. Alger. “We will do everything we can to help create a better tomorrow – one in which no individual has to live in fear that they may someday become a target of hate.” \n",
      "\n",
      "The town halls will allow for students, faculty and staff to share personal experiences and suggestions for ways in which colleagues and decision-makers can make Madison a more welcoming and inclusive place for under-represented students, faculty, and staff — now and in the future. Details are as follows. \n",
      "\n",
      "JMU and Community Town Hall\n",
      "6/3 @ 7 p.m.\n",
      "Hosted by: The James Madison Center for Civic Engagement\n",
      "https://bit.ly/JMUEndRacism \n",
      "\n",
      "\n",
      "Faculty and Staff Town Hall\n",
      "6/4 @ 4 p.m.\n",
      "Hosted by: Heather Coltman, Provost and Tim Miller, Vice President for Student Affairs\n",
      "https://bit.ly/JMU-FacultyStaff-Town-Hall\n",
      "\n",
      "\n",
      "Student Town Hall\n",
      "6/11 @ 4 p.m.\n",
      "Hosted by: Heather Coltman, Provost and Tim Miller, Vice President for Student Affairs\n",
      "https://bit.ly/JMU-Student-Town-Hall  \n",
      "\n",
      "# # #\n",
      "\n",
      "Back to Top\n",
      "\n",
      "Published: Tuesday, June 2, 2020\n",
      "\n",
      "Last Updated: Tuesday, June 2, 2020\n"
     ]
    }
   ],
   "source": [
    "jmu_news = open( 'jmu_news.txt','r')\n",
    "\n",
    "news_content = jmu_news.read()\n",
    "\n",
    "print(news_content)"
   ]
  },
  {
   "cell_type": "markdown",
   "id": "a1fa9782",
   "metadata": {},
   "source": [
    "### the best way to open a file"
   ]
  },
  {
   "cell_type": "code",
   "execution_count": 4,
   "id": "9ec23d08",
   "metadata": {
    "scrolled": true
   },
   "outputs": [
    {
     "name": "stdout",
     "output_type": "stream",
     "text": [
      "Recognizing the nation's history of racism and violence perpetrated against Black communities and communities of color, town halls for the JMU community are scheduled on June 3, 4 and 11 to better understand and address racial injustice and inequities.\n",
      "\n",
      "“We know this grief and pain extends throughout our community, and want you to know that on behalf of the institution and as an individual, I stand with you,” said JMU President Jonathan R. Alger. “We will do everything we can to help create a better tomorrow – one in which no individual has to live in fear that they may someday become a target of hate.” \n",
      "\n",
      "The town halls will allow for students, faculty and staff to share personal experiences and suggestions for ways in which colleagues and decision-makers can make Madison a more welcoming and inclusive place for under-represented students, faculty, and staff — now and in the future. Details are as follows. \n",
      "\n",
      "JMU and Community Town Hall\n",
      "6/3 @ 7 p.m.\n",
      "Hosted by: The James Madison Center for Civic Engagement\n",
      "https://bit.ly/JMUEndRacism \n",
      "\n",
      "\n",
      "Faculty and Staff Town Hall\n",
      "6/4 @ 4 p.m.\n",
      "Hosted by: Heather Coltman, Provost and Tim Miller, Vice President for Student Affairs\n",
      "https://bit.ly/JMU-FacultyStaff-Town-Hall\n",
      "\n",
      "\n",
      "Student Town Hall\n",
      "6/11 @ 4 p.m.\n",
      "Hosted by: Heather Coltman, Provost and Tim Miller, Vice President for Student Affairs\n",
      "https://bit.ly/JMU-Student-Town-Hall  \n",
      "\n",
      "# # #\n",
      "\n",
      "Back to Top\n",
      "\n",
      "Published: Tuesday, June 2, 2020\n",
      "\n",
      "Last Updated: Tuesday, June 2, 2020\n"
     ]
    }
   ],
   "source": [
    "with open('jmu_news.txt', 'r') as jmu_news:\n",
    "    print(jmu_news.read() )"
   ]
  },
  {
   "cell_type": "code",
   "execution_count": 9,
   "id": "bb36bcce",
   "metadata": {},
   "outputs": [
    {
     "name": "stdout",
     "output_type": "stream",
     "text": [
      "a 3\n",
      "b 2\n"
     ]
    }
   ],
   "source": [
    "from collections import Counter\n",
    "demo_list = Counter(['a','a','a','b','b','c'])\n",
    "result = Counter(demo_list)\n",
    "\n",
    "for word, value in result.most_common(2):\n",
    "    print(word,value)"
   ]
  },
  {
   "cell_type": "code",
   "execution_count": 15,
   "id": "796d1a5a",
   "metadata": {},
   "outputs": [
    {
     "name": "stdout",
     "output_type": "stream",
     "text": [
      "and 18\n",
      "for 7\n",
      "the 6\n",
      "to 6\n",
      "town 5\n",
      "of 4\n",
      "in 4\n",
      "jmu 3\n",
      "june 3\n",
      "4 3\n",
      "president 3\n",
      "a 3\n",
      "staff 3\n",
      "hall 3\n",
      "@ 3\n",
      "p.m. 3\n",
      "hosted 3\n",
      "by: 3\n",
      "student 3\n",
      "# 3\n"
     ]
    }
   ],
   "source": [
    "with open('jmu_news.txt', 'r') as jmu_news:\n",
    "    news_content = jmu_news.read()\n",
    "    word_list = news_content.split()\n",
    "    \n",
    "    word_lower_list = [word.lower() for word in word_list]\n",
    "    \n",
    "    count_result = Counter(word_lower_list)\n",
    "    \n",
    "    for word, value in count_result.most_common(20):\n",
    "        print(word,value)"
   ]
  },
  {
   "cell_type": "code",
   "execution_count": 14,
   "id": "d651fba1",
   "metadata": {},
   "outputs": [
    {
     "name": "stdout",
     "output_type": "stream",
     "text": [
      "[0, 1, 2]\n"
     ]
    }
   ],
   "source": [
    "old_list = [1,2,3,]\n",
    "new_list = [item-1 for item in old_list]\n",
    "\n",
    "print(new_list)"
   ]
  },
  {
   "cell_type": "code",
   "execution_count": null,
   "id": "6efb4dca",
   "metadata": {},
   "outputs": [],
   "source": []
  }
 ],
 "metadata": {
  "kernelspec": {
   "display_name": "conda_python3",
   "language": "python",
   "name": "conda_python3"
  },
  "language_info": {
   "codemirror_mode": {
    "name": "ipython",
    "version": 3
   },
   "file_extension": ".py",
   "mimetype": "text/x-python",
   "name": "python",
   "nbconvert_exporter": "python",
   "pygments_lexer": "ipython3",
   "version": "3.10.8"
  }
 },
 "nbformat": 4,
 "nbformat_minor": 5
}
